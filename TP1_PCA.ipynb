{
 "cells": [
  {
   "cell_type": "markdown",
   "id": "d83892c1",
   "metadata": {},
   "source": [
    "# Burnout en empleados corporativos\n",
    "## Aprendizaje de Máquina - TP FINAL"
   ]
  },
  {
   "cell_type": "markdown",
   "id": "6a549576",
   "metadata": {},
   "source": [
    "---\n",
    "## Análisis y selección de features\n",
    "---"
   ]
  },
  {
   "cell_type": "markdown",
   "id": "8878ec5a",
   "metadata": {},
   "source": [
    "#### Carga de datos"
   ]
  },
  {
   "cell_type": "markdown",
   "id": "8761bccb",
   "metadata": {},
   "source": [
    "#### 1. Correlación de Pearson"
   ]
  }
 ],
 "metadata": {
  "language_info": {
   "name": "python"
  }
 },
 "nbformat": 4,
 "nbformat_minor": 5
}
