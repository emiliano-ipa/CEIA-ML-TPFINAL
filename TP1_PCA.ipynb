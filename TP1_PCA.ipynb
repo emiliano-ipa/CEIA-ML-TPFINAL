{
 "cells": [
  {
   "cell_type": "markdown",
   "id": "d83892c1",
   "metadata": {},
   "source": [
    "# Burnout en empleados corporativos - Aprendizaje de Máquina - TP FINAL"
   ]
  },
  {
   "cell_type": "markdown",
   "id": "6a549576",
   "metadata": {},
   "source": [
    "---\n",
    "## Análisis de Componentes Principales (PCA)\n",
    "---"
   ]
  },
  {
   "cell_type": "markdown",
   "id": "8878ec5a",
   "metadata": {},
   "source": [
    "#### 1. Carga de datos"
   ]
  },
  {
   "cell_type": "code",
   "execution_count": 23,
   "id": "ba4750d4",
   "metadata": {},
   "outputs": [],
   "source": [
    "import pandas as pd\n",
    "import matplotlib.pyplot as plt\n",
    "import seaborn as sns\n",
    "import numpy as np"
   ]
  },
  {
   "cell_type": "code",
   "execution_count": 24,
   "id": "15230fa3",
   "metadata": {},
   "outputs": [],
   "source": [
    "# Cargar de los datasets\n",
    "X_train = pd.read_csv(\"output/burnout_X_train.csv\")\n",
    "y_train = pd.read_csv(\"output/burnout_y_train.csv\")\n",
    "X_test = pd.read_csv(\"output/burnout_X_test.csv\")\n",
    "y_test = pd.read_csv(\"output/burnout_y_test.csv\")"
   ]
  },
  {
   "cell_type": "markdown",
   "id": "85f89ac6",
   "metadata": {},
   "source": [
    "#### 2. PCA - dataset con todas las features"
   ]
  },
  {
   "cell_type": "code",
   "execution_count": 25,
   "id": "fddc1bda",
   "metadata": {},
   "outputs": [
    {
     "data": {
      "text/plain": [
       "((16853, 13), (16853, 1))"
      ]
     },
     "execution_count": 25,
     "metadata": {},
     "output_type": "execute_result"
    }
   ],
   "source": [
    "X_train.shape, y_train.shape"
   ]
  },
  {
   "cell_type": "code",
   "execution_count": 26,
   "id": "fb119d59",
   "metadata": {},
   "outputs": [
    {
     "name": "stdout",
     "output_type": "stream",
     "text": [
      "[0.58795479 0.09851714 0.09271049 0.03662683 0.02818557 0.02497256]\n"
     ]
    }
   ],
   "source": [
    "from sklearn.decomposition import PCA\n",
    "\n",
    "# Aplicar PCA\n",
    "pca = PCA(n_components=6)\n",
    "components_all = pca.fit_transform(X_train) # Hacer PCA sobre el dataset de train\n",
    "\n",
    "# Resultado como DataFrame para graficar o analizar\n",
    "df_components_all = pd.DataFrame(components_all, columns=['PC1', 'PC2', 'PC3', 'PC4', 'PC5', 'PC6'], index=y_train.index)\n",
    "df_components_all['BurnRate_Class'] = y_train.values\n",
    "\n",
    "# Aplicar PCA al conjunto de test\n",
    "components_test = pca.transform(X_test)\n",
    "\n",
    "print(pca.explained_variance_ratio_)  # % de varianza capturada por cada componente"
   ]
  },
  {
   "cell_type": "code",
   "execution_count": 27,
   "id": "6946a4fe",
   "metadata": {},
   "outputs": [
    {
     "data": {
      "text/html": [
       "<div>\n",
       "<style scoped>\n",
       "    .dataframe tbody tr th:only-of-type {\n",
       "        vertical-align: middle;\n",
       "    }\n",
       "\n",
       "    .dataframe tbody tr th {\n",
       "        vertical-align: top;\n",
       "    }\n",
       "\n",
       "    .dataframe thead th {\n",
       "        text-align: right;\n",
       "    }\n",
       "</style>\n",
       "<table border=\"1\" class=\"dataframe\">\n",
       "  <thead>\n",
       "    <tr style=\"text-align: right;\">\n",
       "      <th></th>\n",
       "      <th>PC1</th>\n",
       "      <th>PC2</th>\n",
       "      <th>PC3</th>\n",
       "      <th>PC4</th>\n",
       "      <th>PC5</th>\n",
       "      <th>PC6</th>\n",
       "      <th>BurnRate_Class</th>\n",
       "    </tr>\n",
       "  </thead>\n",
       "  <tbody>\n",
       "    <tr>\n",
       "      <th>0</th>\n",
       "      <td>1.041191</td>\n",
       "      <td>-1.714393</td>\n",
       "      <td>0.341711</td>\n",
       "      <td>0.143101</td>\n",
       "      <td>0.142379</td>\n",
       "      <td>0.276300</td>\n",
       "      <td>1.0</td>\n",
       "    </tr>\n",
       "    <tr>\n",
       "      <th>1</th>\n",
       "      <td>-2.820136</td>\n",
       "      <td>-0.437159</td>\n",
       "      <td>-1.162479</td>\n",
       "      <td>-0.687491</td>\n",
       "      <td>-0.205742</td>\n",
       "      <td>0.634680</td>\n",
       "      <td>0.0</td>\n",
       "    </tr>\n",
       "    <tr>\n",
       "      <th>2</th>\n",
       "      <td>1.046325</td>\n",
       "      <td>-1.075296</td>\n",
       "      <td>1.185162</td>\n",
       "      <td>-0.801379</td>\n",
       "      <td>-0.009905</td>\n",
       "      <td>0.041372</td>\n",
       "      <td>1.0</td>\n",
       "    </tr>\n",
       "    <tr>\n",
       "      <th>3</th>\n",
       "      <td>-2.774484</td>\n",
       "      <td>0.321384</td>\n",
       "      <td>-1.623802</td>\n",
       "      <td>-1.066568</td>\n",
       "      <td>0.759882</td>\n",
       "      <td>-0.088296</td>\n",
       "      <td>0.0</td>\n",
       "    </tr>\n",
       "    <tr>\n",
       "      <th>4</th>\n",
       "      <td>2.068310</td>\n",
       "      <td>0.730037</td>\n",
       "      <td>-1.750216</td>\n",
       "      <td>-0.380441</td>\n",
       "      <td>0.316608</td>\n",
       "      <td>-0.864610</td>\n",
       "      <td>2.0</td>\n",
       "    </tr>\n",
       "  </tbody>\n",
       "</table>\n",
       "</div>"
      ],
      "text/plain": [
       "        PC1       PC2       PC3       PC4       PC5       PC6  BurnRate_Class\n",
       "0  1.041191 -1.714393  0.341711  0.143101  0.142379  0.276300             1.0\n",
       "1 -2.820136 -0.437159 -1.162479 -0.687491 -0.205742  0.634680             0.0\n",
       "2  1.046325 -1.075296  1.185162 -0.801379 -0.009905  0.041372             1.0\n",
       "3 -2.774484  0.321384 -1.623802 -1.066568  0.759882 -0.088296             0.0\n",
       "4  2.068310  0.730037 -1.750216 -0.380441  0.316608 -0.864610             2.0"
      ]
     },
     "execution_count": 27,
     "metadata": {},
     "output_type": "execute_result"
    }
   ],
   "source": [
    "df_components_all.head()"
   ]
  },
  {
   "cell_type": "markdown",
   "id": "5d42ca65",
   "metadata": {},
   "source": [
    "#### 2. Gráfico de varianza explicada acumulada"
   ]
  },
  {
   "cell_type": "code",
   "execution_count": 28,
   "id": "c87fc984",
   "metadata": {},
   "outputs": [
    {
     "data": {
      "image/png": "[encoded data removed]",
      "text/plain": [
       "<Figure size 800x500 with 1 Axes>"
      ]
     },
     "metadata": {},
     "output_type": "display_data"
    }
   ],
   "source": [
    "# Varianza explicada por componente\n",
    "explained_variance = pca.explained_variance_ratio_\n",
    "\n",
    "# varianza acumulada\n",
    "cumulative_var = np.cumsum(explained_variance)\n",
    "\n",
    "plt.figure(figsize=(8,5))\n",
    "plt.plot(range(1, len(cumulative_var) + 1), cumulative_var, marker='o')\n",
    "plt.xlabel('Número de Componentes Principales')\n",
    "plt.ylabel('Varianza Explicada Acumulada')\n",
    "plt.title('Varianza Explicada Acumulada por PCA')\n",
    "plt.axhline(y=0.85, color='red', linestyle='--', label='85% de varianza')\n",
    "plt.xticks([1, 2, 3,4])\n",
    "plt.legend(loc='lower right')\n",
    "plt.grid()\n",
    "plt.show()"
   ]
  },
  {
   "cell_type": "markdown",
   "id": "45a67a7b",
   "metadata": {},
   "source": [
    "**Conclusión del gráfico de varianza acumulada**\n",
    "\n",
    "El análisis de componentes principales (PCA) muestra que con 6 componentes se explica aproximadamente el 87% de la varianza total del dataset.\n",
    "Dado que este valor supera el umbral establecido del 85%, se decide utilizar estas 6 componentes para generar un conjunto de datos reducido, que será empleado en el entrenamiento y evaluación de los modelos."
   ]
  },
  {
   "cell_type": "markdown",
   "id": "04378e18",
   "metadata": {},
   "source": [
    "#### 3. Exportación del dataset de 6 componentes en .csv"
   ]
  },
  {
   "cell_type": "code",
   "execution_count": 29,
   "id": "f87fe008",
   "metadata": {},
   "outputs": [],
   "source": [
    "# Convertir X (componentes PCA) a DataFrame\n",
    "X_train_pca = pd.DataFrame(components_all, columns=[f'PC{i+1}' for i in range(6)])\n",
    "X_test_pca = pd.DataFrame(components_test, columns=[f'PC{i+1}' for i in range(6)])\n",
    "\n",
    "# Resetear index por si hay desalineación\n",
    "X_train_pca.reset_index(drop=True, inplace=True)\n",
    "X_test_pca.reset_index(drop=True, inplace=True)\n",
    "\n",
    "# Exportar CSV\n",
    "X_train_pca.to_csv('output/burnout_X_train_PCA.csv', index=False)\n",
    "X_test_pca.to_csv('output/burnout_X_test_PCA.csv', index=False)"
   ]
  }
 ],
 "metadata": {
  "kernelspec": {
   "display_name": "Python 3",
   "language": "python",
   "name": "python3"
  },
  "language_info": {
   "codemirror_mode": {
    "name": "ipython",
    "version": 3
   },
   "file_extension": ".py",
   "mimetype": "text/x-python",
   "name": "python",
   "nbconvert_exporter": "python",
   "pygments_lexer": "ipython3",
   "version": "3.11.9"
  }
 },
 "nbformat": 4,
 "nbformat_minor": 5
}
