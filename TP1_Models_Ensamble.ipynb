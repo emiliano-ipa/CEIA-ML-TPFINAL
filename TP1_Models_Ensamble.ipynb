{
 "cells": [
  {
   "cell_type": "markdown",
   "id": "d83892c1",
   "metadata": {},
   "source": [
    "# Burnout en empleados corporativos\n",
    "## Aprendizaje de Máquina - TP FINAL"
   ]
  },
  {
   "cell_type": "markdown",
   "id": "6a549576",
   "metadata": {},
   "source": [
    "---\n",
    "## Desarrollo de Modelos de Ensamble\n",
    "---"
   ]
  },
  {
   "cell_type": "markdown",
   "id": "8878ec5a",
   "metadata": {},
   "source": [
    "#### Carga de datos"
   ]
  },
  {
   "cell_type": "code",
   "execution_count": 1,
   "id": "ba4750d4",
   "metadata": {},
   "outputs": [],
   "source": [
    "#importar librerias\n",
    "import pandas as pd\n",
    "from sklearn.linear_model import LogisticRegression\n",
    "from sklearn.neighbors import KNeighborsClassifier\n",
    "from sklearn.svm import SVC\n",
    "from sklearn.tree import DecisionTreeClassifier\n",
    "from sklearn.preprocessing import StandardScaler, label_binarize\n",
    "from sklearn.metrics import classification_report, confusion_matrix, f1_score, roc_curve, roc_auc_score, roc_curve, auc\n",
    "import matplotlib.pyplot as plt\n",
    "import seaborn as sns\n",
    "from sklearn.preprocessing import StandardScaler\n",
    "from sklearn.model_selection import train_test_split\n",
    "import seaborn as sns\n",
    "import numpy as np\n",
    "from sklearn.ensemble import VotingClassifier\n"
   ]
  },
  {
   "cell_type": "code",
   "execution_count": 3,
   "id": "15230fa3",
   "metadata": {},
   "outputs": [],
   "source": [
    "# Cargar de los datasets\n",
    "X_train = pd.read_csv(\"output/burnout_X_train.csv\")\n",
    "y_train = pd.read_csv(\"output/burnout_y_train.csv\")\n",
    "X_test = pd.read_csv(\"output/burnout_X_test.csv\")\n",
    "y_test = pd.read_csv(\"output/burnout_y_test.csv\")\n",
    "X_train_PCA = pd.read_csv(\"output/burnout_X_train_PCA.csv\").values\n",
    "X_test_PCA = pd.read_csv(\"output/burnout_X_test_PCA.csv\").values"
   ]
  },
  {
   "cell_type": "code",
   "execution_count": 103,
   "id": "92ca1e4b",
   "metadata": {},
   "outputs": [
    {
     "name": "stdout",
     "output_type": "stream",
     "text": [
      "[1. 0. 2.]\n"
     ]
    }
   ],
   "source": [
    "#check unique values in y_train\n",
    "print(y_train['BurnRate_Class'].unique())"
   ]
  },
  {
   "cell_type": "markdown",
   "id": "3abf561b",
   "metadata": {},
   "source": [
    "### Hard voting classifier"
   ]
  },
  {
   "cell_type": "markdown",
   "id": "d312f06a",
   "metadata": {},
   "source": [
    "Best parameters found:  {'estimator__C': 100, 'estimator__max_iter': 100, 'estimator__solver': 'liblinear'}\n",
    "\n",
    "kernel='rbf', C=1.0, gamma='scale', probability=True, random_state=42\n",
    "\n",
    "K=13"
   ]
  },
  {
   "cell_type": "code",
   "execution_count": 32,
   "id": "4a4a3bbd",
   "metadata": {},
   "outputs": [],
   "source": [
    "lr1 = LogisticRegression(random_state=42, class_weight=\"balanced\")\n",
    "tree1 = DecisionTreeClassifier(max_depth=16, criterion='entropy', min_samples_split=17, min_samples_leaf=3, random_state=42)\n",
    "svc_1 = SVC(C=5, kernel='linear', probability=True, random_state=42)\n",
    "knn_1 = KNeighborsClassifier(n_neighbors=35, p=3, weights='distance')\n",
    "\n",
    "estimators=[('Linear Regression', lr1), \n",
    "            ('Tree', tree1), \n",
    "            ('Support Vector Classifier', svc_1), \n",
    "            ('kNN', knn_1)] \n",
    "\n"
   ]
  },
  {
   "cell_type": "code",
   "execution_count": 21,
   "id": "4b8f6387",
   "metadata": {},
   "outputs": [
    {
     "name": "stderr",
     "output_type": "stream",
     "text": [
      "c:\\Users\\alope\\AppData\\Local\\pypoetry\\Cache\\virtualenvs\\ceia-ml-tpfinal--uYCcGwE-py3.11\\Lib\\site-packages\\sklearn\\preprocessing\\_label.py:93: DataConversionWarning: A column-vector y was passed when a 1d array was expected. Please change the shape of y to (n_samples, ), for example using ravel().\n",
      "  y = column_or_1d(y, warn=True)\n",
      "c:\\Users\\alope\\AppData\\Local\\pypoetry\\Cache\\virtualenvs\\ceia-ml-tpfinal--uYCcGwE-py3.11\\Lib\\site-packages\\sklearn\\preprocessing\\_label.py:129: DataConversionWarning: A column-vector y was passed when a 1d array was expected. Please change the shape of y to (n_samples, ), for example using ravel().\n",
      "  y = column_or_1d(y, dtype=self.classes_.dtype, warn=True)\n"
     ]
    },
    {
     "name": "stdout",
     "output_type": "stream",
     "text": [
      "Reporte con datos originales:\n",
      "               precision    recall  f1-score   support\n",
      "\n",
      "         0.0       0.84      0.91      0.87      1136\n",
      "         1.0       0.88      0.89      0.89      2514\n",
      "         2.0       0.85      0.69      0.77       637\n",
      "\n",
      "    accuracy                           0.87      4287\n",
      "   macro avg       0.86      0.83      0.84      4287\n",
      "weighted avg       0.87      0.87      0.87      4287\n",
      "\n"
     ]
    }
   ],
   "source": [
    "# Entrenar modelo \n",
    "hard_vot_clas = VotingClassifier(estimators=estimators, voting='hard', n_jobs=-1)\n",
    "hard_vot_clas.fit(X_train, y_train)\n",
    "# Predecir valores en el set de test\n",
    "y_pred = hard_vot_clas.predict(X_test) \n",
    "\n",
    "report_original = classification_report(y_test, y_pred)\n",
    "print(\"Reporte con datos originales:\\n\", report_original)"
   ]
  },
  {
   "cell_type": "markdown",
   "id": "369c5195",
   "metadata": {},
   "source": [
    "#### Utilizando datos transformados con PCA"
   ]
  },
  {
   "cell_type": "code",
   "execution_count": 23,
   "id": "e685cb44",
   "metadata": {},
   "outputs": [
    {
     "name": "stderr",
     "output_type": "stream",
     "text": [
      "c:\\Users\\alope\\AppData\\Local\\pypoetry\\Cache\\virtualenvs\\ceia-ml-tpfinal--uYCcGwE-py3.11\\Lib\\site-packages\\sklearn\\preprocessing\\_label.py:93: DataConversionWarning: A column-vector y was passed when a 1d array was expected. Please change the shape of y to (n_samples, ), for example using ravel().\n",
      "  y = column_or_1d(y, warn=True)\n",
      "c:\\Users\\alope\\AppData\\Local\\pypoetry\\Cache\\virtualenvs\\ceia-ml-tpfinal--uYCcGwE-py3.11\\Lib\\site-packages\\sklearn\\preprocessing\\_label.py:129: DataConversionWarning: A column-vector y was passed when a 1d array was expected. Please change the shape of y to (n_samples, ), for example using ravel().\n",
      "  y = column_or_1d(y, dtype=self.classes_.dtype, warn=True)\n"
     ]
    },
    {
     "name": "stdout",
     "output_type": "stream",
     "text": [
      "Reporte con datos originales:\n",
      "               precision    recall  f1-score   support\n",
      "\n",
      "         0.0       0.82      0.91      0.86      1136\n",
      "         1.0       0.87      0.86      0.87      2514\n",
      "         2.0       0.78      0.65      0.71       637\n",
      "\n",
      "    accuracy                           0.84      4287\n",
      "   macro avg       0.82      0.81      0.81      4287\n",
      "weighted avg       0.84      0.84      0.84      4287\n",
      "\n"
     ]
    }
   ],
   "source": [
    "# Entrenar modelo \n",
    "hard_vot_clas_PCA = VotingClassifier(estimators=estimators, voting='hard', n_jobs=-1)\n",
    "hard_vot_clas_PCA.fit(X_train_PCA, y_train)\n",
    "# Predecir valores en el set de test\n",
    "y_pred_PCA = hard_vot_clas_PCA.predict(X_test_PCA) \n",
    "\n",
    "report_PCA = classification_report(y_test, y_pred_PCA)\n",
    "print(\"Reporte con datos originales:\\n\", report_PCA)"
   ]
  },
  {
   "cell_type": "markdown",
   "id": "8a7647bf",
   "metadata": {},
   "source": [
    "Si observamos la performance de precision, recall y F1-score, observamos que en los tres casos disminuye ligeramente cuando utilizamos datos transformados con PCA, por lo que concluimos que es preferible utilizar los datos originales (recordando que los mismos ya fueron escalados y codificados). Cabe mencionar que al ser un hard voting classifier, no es posible medir el área bajo la curva ROC, al no predecir probabilidades."
   ]
  },
  {
   "cell_type": "markdown",
   "id": "dc1f1885",
   "metadata": {},
   "source": [
    "### Soft voting classifer"
   ]
  },
  {
   "cell_type": "markdown",
   "id": "ae97ba36",
   "metadata": {},
   "source": [
    "Ahora entrenamos un Soft voting classifier, donde se promedia el output de probabilidad de cada modelo para obtener la probabilidad del ensamble, y utilizarla para hacer la predicción:"
   ]
  },
  {
   "cell_type": "code",
   "execution_count": 26,
   "id": "857e1ace",
   "metadata": {},
   "outputs": [],
   "source": [
    "lr2 = LogisticRegression(random_state=42, class_weight=\"balanced\")\n",
    "tree2 = DecisionTreeClassifier(max_depth=16, criterion='entropy', min_samples_split=17, min_samples_leaf=3, random_state=42)\n",
    "svc_2 = SVC(C=5, kernel='linear', probability=True, random_state=42)\n",
    "knn_2 = KNeighborsClassifier(n_neighbors=35, p=3, weights='distance')\n",
    "\n",
    "estimators_soft=[('Linear Regression', lr2), \n",
    "            ('Tree', tree2), \n",
    "            ('Support Vector Classifier', svc_2), \n",
    "            ('kNN', knn_2)] \n",
    "\n"
   ]
  },
  {
   "cell_type": "code",
   "execution_count": 28,
   "id": "46ff1551",
   "metadata": {},
   "outputs": [
    {
     "name": "stderr",
     "output_type": "stream",
     "text": [
      "c:\\Users\\alope\\AppData\\Local\\pypoetry\\Cache\\virtualenvs\\ceia-ml-tpfinal--uYCcGwE-py3.11\\Lib\\site-packages\\sklearn\\preprocessing\\_label.py:93: DataConversionWarning: A column-vector y was passed when a 1d array was expected. Please change the shape of y to (n_samples, ), for example using ravel().\n",
      "  y = column_or_1d(y, warn=True)\n",
      "c:\\Users\\alope\\AppData\\Local\\pypoetry\\Cache\\virtualenvs\\ceia-ml-tpfinal--uYCcGwE-py3.11\\Lib\\site-packages\\sklearn\\preprocessing\\_label.py:129: DataConversionWarning: A column-vector y was passed when a 1d array was expected. Please change the shape of y to (n_samples, ), for example using ravel().\n",
      "  y = column_or_1d(y, dtype=self.classes_.dtype, warn=True)\n"
     ]
    },
    {
     "name": "stdout",
     "output_type": "stream",
     "text": [
      "Reporte con datos originales:\n",
      "               precision    recall  f1-score   support\n",
      "\n",
      "         0.0       0.87      0.89      0.88      1136\n",
      "         1.0       0.89      0.88      0.89      2514\n",
      "         2.0       0.77      0.76      0.77       637\n",
      "\n",
      "    accuracy                           0.87      4287\n",
      "   macro avg       0.84      0.84      0.84      4287\n",
      "weighted avg       0.87      0.87      0.87      4287\n",
      "\n"
     ]
    }
   ],
   "source": [
    "# Entrenar modelo \n",
    "soft_vot_clas = VotingClassifier(estimators=estimators, voting='soft', n_jobs=-1)\n",
    "soft_vot_clas.fit(X_train, y_train)\n",
    "# Predecir valores en el set de test\n",
    "y_pred_soft = soft_vot_clas.predict(X_test) \n",
    "\n",
    "report_original_soft = classification_report(y_test, y_pred_soft)\n",
    "print(\"Reporte con datos originales:\\n\", report_original_soft)"
   ]
  },
  {
   "cell_type": "markdown",
   "id": "fc9847f6",
   "metadata": {},
   "source": [
    "Con respecto al Hard-voting classifier, observamos que para las clases 0 y 1 en general no cambió el resultado. Sin embargo, para la clase 2, la más difícil de predecir por ser la minoritaria, empeoró el precision (pasó de 0.85 a 0.77), pero mejoró el recall (de 0.69 a 0.76), manteniendo el mismo F1-score. Esto implica que ahora detecta más casos de burnout severo (que es la clase 2), pero genera mayor cantidad de falsos positivos"
   ]
  },
  {
   "cell_type": "code",
   "execution_count": 31,
   "id": "8f592dbf",
   "metadata": {},
   "outputs": [
    {
     "name": "stderr",
     "output_type": "stream",
     "text": [
      "c:\\Users\\alope\\AppData\\Local\\pypoetry\\Cache\\virtualenvs\\ceia-ml-tpfinal--uYCcGwE-py3.11\\Lib\\site-packages\\sklearn\\preprocessing\\_label.py:93: DataConversionWarning: A column-vector y was passed when a 1d array was expected. Please change the shape of y to (n_samples, ), for example using ravel().\n",
      "  y = column_or_1d(y, warn=True)\n",
      "c:\\Users\\alope\\AppData\\Local\\pypoetry\\Cache\\virtualenvs\\ceia-ml-tpfinal--uYCcGwE-py3.11\\Lib\\site-packages\\sklearn\\preprocessing\\_label.py:129: DataConversionWarning: A column-vector y was passed when a 1d array was expected. Please change the shape of y to (n_samples, ), for example using ravel().\n",
      "  y = column_or_1d(y, dtype=self.classes_.dtype, warn=True)\n"
     ]
    },
    {
     "name": "stdout",
     "output_type": "stream",
     "text": [
      "Reporte con datos originales:\n",
      "               precision    recall  f1-score   support\n",
      "\n",
      "         0.0       0.84      0.87      0.85      1136\n",
      "         1.0       0.87      0.85      0.86      2514\n",
      "         2.0       0.72      0.70      0.71       637\n",
      "\n",
      "    accuracy                           0.84      4287\n",
      "   macro avg       0.81      0.81      0.81      4287\n",
      "weighted avg       0.84      0.84      0.84      4287\n",
      "\n"
     ]
    }
   ],
   "source": [
    "# Entrenar modelo \n",
    "soft_vot_clas_PCA = VotingClassifier(estimators=estimators, voting='soft', n_jobs=-1)\n",
    "soft_vot_clas_PCA.fit(X_train_PCA, y_train)\n",
    "# Predecir valores en el set de test\n",
    "y_pred_soft_PCA = soft_vot_clas_PCA.predict(X_test_PCA) \n",
    "\n",
    "report_PCA_soft = classification_report(y_test, y_pred_soft_PCA)\n",
    "print(\"Reporte con datos originales:\\n\", report_PCA_soft)"
   ]
  },
  {
   "cell_type": "markdown",
   "id": "a4a86adc",
   "metadata": {},
   "source": [
    "### Ensamble de mejores modelos"
   ]
  },
  {
   "cell_type": "markdown",
   "id": "a9fd4fe8",
   "metadata": {},
   "source": [
    "A partir de los modelos base entrenados, utilizamos los mejores parámetros surgidos, y armamos los ensambles en base a los mismos:\n",
    "- **LogisticRegression**: 'estimator__C': 100, 'estimator__max_iter': 100, 'estimator__solver': 'liblinear'\n",
    "- **SVC**: kernel='rbf', C=1.0, gamma='scale'\n",
    "- **KNeighborsClassifier**: n_neighbors=13\n",
    "- **DecisionTreeClassifier**: utilizamos el modelo base\n",
    "\n",
    "Se entrena únicamente el modelo en base a los datos originales, sin transformación de PCA, en base a los resultados obtenidos en los casos anteriores. En primer lugar entrenamos un Hard-voting classifier:"
   ]
  },
  {
   "cell_type": "code",
   "execution_count": 33,
   "id": "66fe5a99",
   "metadata": {},
   "outputs": [
    {
     "name": "stderr",
     "output_type": "stream",
     "text": [
      "c:\\Users\\alope\\AppData\\Local\\pypoetry\\Cache\\virtualenvs\\ceia-ml-tpfinal--uYCcGwE-py3.11\\Lib\\site-packages\\sklearn\\preprocessing\\_label.py:93: DataConversionWarning: A column-vector y was passed when a 1d array was expected. Please change the shape of y to (n_samples, ), for example using ravel().\n",
      "  y = column_or_1d(y, warn=True)\n",
      "c:\\Users\\alope\\AppData\\Local\\pypoetry\\Cache\\virtualenvs\\ceia-ml-tpfinal--uYCcGwE-py3.11\\Lib\\site-packages\\sklearn\\preprocessing\\_label.py:129: DataConversionWarning: A column-vector y was passed when a 1d array was expected. Please change the shape of y to (n_samples, ), for example using ravel().\n",
      "  y = column_or_1d(y, dtype=self.classes_.dtype, warn=True)\n"
     ]
    },
    {
     "name": "stdout",
     "output_type": "stream",
     "text": [
      "Reporte con datos originales:\n",
      "               precision    recall  f1-score   support\n",
      "\n",
      "         0.0       0.83      0.91      0.87      1136\n",
      "         1.0       0.88      0.88      0.88      2514\n",
      "         2.0       0.84      0.67      0.75       637\n",
      "\n",
      "    accuracy                           0.86      4287\n",
      "   macro avg       0.85      0.82      0.83      4287\n",
      "weighted avg       0.86      0.86      0.86      4287\n",
      "\n"
     ]
    }
   ],
   "source": [
    "# Definir los estimadores con los parámetros optimizados\n",
    "lr_optimo = LogisticRegression(C=100, max_iter=100, solver='liblinear', random_state=42, class_weight=\"balanced\")\n",
    "tree_optimo = DecisionTreeClassifier(max_depth=16, criterion='entropy', min_samples_split=17, min_samples_leaf=3, random_state=42)\n",
    "svc_optimo = SVC(C=1.0, kernel='rbf', gamma='scale', probability=True, random_state=42)\n",
    "knn_optimo = KNeighborsClassifier(n_neighbors=13, p=3, weights='distance')\n",
    "\n",
    "# Lista de estimadores para el VotingClassifier\n",
    "estimators_optimo = [\n",
    "    ('Linear Regression', lr_optimo),\n",
    "    ('Tree', tree_optimo),\n",
    "    ('Support Vector Classifier', svc_optimo),\n",
    "    ('kNN', knn_optimo)\n",
    "]\n",
    "\n",
    "# Configurar el VotingClassifier\n",
    "hard_vot_clas_optimo = VotingClassifier(estimators=estimators_optimo, voting='hard', n_jobs=-1)\n",
    "hard_vot_clas_optimo.fit(X_train, y_train)\n",
    "# Predecir valores en el set de test\n",
    "y_pred_optimo = hard_vot_clas_optimo.predict(X_test) \n",
    "\n",
    "report_original_optimo = classification_report(y_test, y_pred_optimo)\n",
    "print(\"Reporte con datos originales:\\n\", report_original_optimo)"
   ]
  },
  {
   "cell_type": "markdown",
   "id": "d8e9972f",
   "metadata": {},
   "source": [
    "No se observa una mejoría respecto al Hard-voting classifier entrenado originalmente. Entrenamos ahora un Soft-voting classifier:"
   ]
  },
  {
   "cell_type": "code",
   "execution_count": 34,
   "id": "fadf3ee6",
   "metadata": {},
   "outputs": [
    {
     "name": "stderr",
     "output_type": "stream",
     "text": [
      "c:\\Users\\alope\\AppData\\Local\\pypoetry\\Cache\\virtualenvs\\ceia-ml-tpfinal--uYCcGwE-py3.11\\Lib\\site-packages\\sklearn\\preprocessing\\_label.py:93: DataConversionWarning: A column-vector y was passed when a 1d array was expected. Please change the shape of y to (n_samples, ), for example using ravel().\n",
      "  y = column_or_1d(y, warn=True)\n",
      "c:\\Users\\alope\\AppData\\Local\\pypoetry\\Cache\\virtualenvs\\ceia-ml-tpfinal--uYCcGwE-py3.11\\Lib\\site-packages\\sklearn\\preprocessing\\_label.py:129: DataConversionWarning: A column-vector y was passed when a 1d array was expected. Please change the shape of y to (n_samples, ), for example using ravel().\n",
      "  y = column_or_1d(y, dtype=self.classes_.dtype, warn=True)\n"
     ]
    },
    {
     "name": "stdout",
     "output_type": "stream",
     "text": [
      "Reporte con datos originales:\n",
      "               precision    recall  f1-score   support\n",
      "\n",
      "         0.0       0.87      0.89      0.88      1136\n",
      "         1.0       0.89      0.88      0.89      2514\n",
      "         2.0       0.77      0.76      0.77       637\n",
      "\n",
      "    accuracy                           0.87      4287\n",
      "   macro avg       0.84      0.84      0.84      4287\n",
      "weighted avg       0.87      0.87      0.87      4287\n",
      "\n"
     ]
    }
   ],
   "source": [
    "# Entrenar modelo \n",
    "soft_vot_clas_optimo = VotingClassifier(estimators=estimators, voting='soft', n_jobs=-1)\n",
    "soft_vot_clas_optimo.fit(X_train, y_train)\n",
    "# Predecir valores en el set de test\n",
    "y_pred_soft_optimo = soft_vot_clas_optimo.predict(X_test) \n",
    "\n",
    "report_original_soft_optimo = classification_report(y_test, y_pred_soft_optimo)\n",
    "print(\"Reporte con datos originales:\\n\", report_original_soft_optimo)"
   ]
  },
  {
   "cell_type": "markdown",
   "id": "ce0fb5f8",
   "metadata": {},
   "source": [
    "Nuevamente no se observa mejoría respecto al Soft-voting base. Esto posiblemente se de debido a la interacción entre los modelos, donde aunque cada modelo individual esté optimizado, la combinación de sus predicciones no lo sea si los mismos cometen errores similares, ya que estos modelos de ensamble requieren diversidad para mejorar la predicción"
   ]
  }
 ],
 "metadata": {
  "kernelspec": {
   "display_name": "CEIA_ML",
   "language": "python",
   "name": "ceia_ml"
  },
  "language_info": {
   "codemirror_mode": {
    "name": "ipython",
    "version": 3
   },
   "file_extension": ".py",
   "mimetype": "text/x-python",
   "name": "python",
   "nbconvert_exporter": "python",
   "pygments_lexer": "ipython3",
   "version": "3.11.0"
  }
 },
 "nbformat": 4,
 "nbformat_minor": 5
}
